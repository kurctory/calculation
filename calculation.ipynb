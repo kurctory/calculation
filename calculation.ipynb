{
 "cells": [
  {
   "cell_type": "code",
   "execution_count": 1,
   "metadata": {},
   "outputs": [],
   "source": [
    "import numpy as np"
   ]
  },
  {
   "cell_type": "markdown",
   "metadata": {},
   "source": [
    "### First task\n",
    "*Matrix:*\n",
    "$$\\begin{pmatrix} 7.35272 & 0.88255 & -2.270052 \\\\ 0.88255 & 5.58351 & 0.528167 \\\\ -2.27005 & 0.528167 & 4.430329 \\end{pmatrix} = \\begin{pmatrix} 1 \\\\ 0 \\\\ 0 \\end{pmatrix}$$ "
   ]
  },
  {
   "cell_type": "code",
   "execution_count": 2,
   "metadata": {},
   "outputs": [],
   "source": [
    "A = np.array([[7.35272, 0.88255, - 2.270052],\n",
    "               [0.88255, 5.58351, 0.528167],\n",
    "               [- 2.27005, 0.528167, 4.430329]])\n",
    "B = np.array([[1], [0], [0]])\n",
    "matrix = np.array([[7.35272, 0.88255, - 2.270052, 1],\n",
    "               [0.88255, 5.58351, 0.528167, 0],\n",
    "               [- 2.27005, 0.528167, 4.430329, 0]])"
   ]
  },
  {
   "cell_type": "markdown",
   "metadata": {},
   "source": [
    "LU разложение\n"
   ]
  },
  {
   "cell_type": "code",
   "execution_count": 3,
   "metadata": {},
   "outputs": [
    {
     "data": {
      "text/plain": [
       "array([[ 7.35272 ,  0.88255 , -2.270052],\n",
       "       [ 0.      ,  5.58351 ,  0.528167],\n",
       "       [ 0.      ,  0.      ,  4.430329]])"
      ]
     },
     "execution_count": 3,
     "metadata": {},
     "output_type": "execute_result"
    }
   ],
   "source": [
    "def decompose_to_LU(A):\n",
    "    \"\"\"Decompose matrix of coefficients to L and U matrices.\n",
    "     L and U triangular matrices will be represented in a single nxn matrix.\n",
    "    :param a: numpy matrix of coefficients\n",
    "    :return: numpy LU matrix\n",
    "    \"\"\"\n",
    "    # create emtpy LU-matrix\n",
    "    lu_matrix = np.matrix(np.zeros([A.shape[0], A.shape[1]]))\n",
    "    n = A.shape[0]\n",
    "\n",
    "    for k in range(n):\n",
    "        # calculate all residual k-row elements\n",
    "        for j in range(k, n):\n",
    "            lu_matrix[k, j] = A[k, j] - lu_matrix[k, :k] * lu_matrix[:k, j]\n",
    "        # calculate all residual k-column elemetns\n",
    "        for i in range(k + 1, n):\n",
    "            lu_matrix[i, k] = (A[i, k] - lu_matrix[i, : k] * lu_matrix[: k, k]) / lu_matrix[k, k]\n",
    "\n",
    "    return lu_matrix\n",
    "\n",
    "def get_L(m):\n",
    "    \"\"\"Get triangular L matrix from a single LU-matrix\n",
    "    :param m: numpy LU-matrix\n",
    "    :return: numpy triangular L matrix\n",
    "    \"\"\"\n",
    "    L = m.copy()\n",
    "    for i in range(L.shape[0]):\n",
    "            L[i, i] = 1\n",
    "            L[i, i+1 :] = 0\n",
    "    return np.matrix(L)\n",
    "\n",
    "\n",
    "def get_U(m):\n",
    "    \"\"\"Get triangular U matrix from a single LU-matrix\n",
    "    :param m: numpy LU-matrix\n",
    "    :return: numpy triangular U matrix\n",
    "    \"\"\"\n",
    "    U = m.copy()\n",
    "    for i in range(1, U.shape[0]):\n",
    "        U[i, :i] = 0\n",
    "    return U\n",
    "\n",
    "get_U(A)"
   ]
  },
  {
   "cell_type": "code",
   "execution_count": 10,
   "metadata": {},
   "outputs": [],
   "source": [
    "def solve_LU(lu_matrix, b):\n",
    "    \"\"\"Solve system of equations from given LU-matrix and vector b of absolute terms.\n",
    "    :param lu_matrix: numpy LU-matrix\n",
    "    :param b: numpy matrix of absolute terms [n x 1]\n",
    "    :return: numpy matrix of answers [n x 1]\n",
    "    \"\"\"\n",
    "    # get supporting vector y\n",
    "    y = np.matrix(np.zeros([lu_matrix.shape[0], 1]))\n",
    "    for i in range(y.shape[0]):\n",
    "        y[i, 0] = b[i, 0] - lu_matrix[i, :i] * y[:i]\n",
    "\n",
    "    # get vector of answers x\n",
    "    x = np.matrix(np.zeros([lu_matrix.shape[0], 1]))\n",
    "    for i in range(1, x.shape[0] + 1):\n",
    "        x[-i, 0] = (y[-i] - lu_matrix[-i, -i:] * x[-i:, 0] )/ lu_matrix[-i, -i]\n",
    "\n",
    "    return x"
   ]
  },
  {
   "cell_type": "markdown",
   "metadata": {},
   "source": [
    "Обратная матрица через LU разложение"
   ]
  },
  {
   "cell_type": "code",
   "execution_count": 12,
   "metadata": {},
   "outputs": [
    {
     "data": {
      "text/plain": [
       "matrix([[ 0.16810435, -0.03511503,  0.0903211 ],\n",
       "        [-0.03511502,  0.18847669, -0.04046203],\n",
       "        [ 0.09032103, -0.04046202,  0.2768201 ]])"
      ]
     },
     "execution_count": 12,
     "metadata": {},
     "output_type": "execute_result"
    }
   ],
   "source": [
    "def reverse_LU(A):\n",
    "    identy = np.identity(3)\n",
    "    inverse = np.matrix(np.zeros((3, 3)))\n",
    "    for i in range(inverse.shape[0]): \n",
    "        B = np.matrix(np.zeros((3, 1)))\n",
    "        B[i] = 1\n",
    "        x = solve_LU(decompose_to_LU(A), B)\n",
    "        for k in range(inverse.shape[0]): \n",
    "            inverse[k, i] = x[k, 0] \n",
    "    return inverse\n",
    "\n",
    "reverse_LU(A)"
   ]
  },
  {
   "cell_type": "markdown",
   "metadata": {},
   "source": [
    "Проверка результата"
   ]
  },
  {
   "cell_type": "code",
   "execution_count": 6,
   "metadata": {},
   "outputs": [
    {
     "data": {
      "text/plain": [
       "array([[ 0.16810435, -0.03511503,  0.0903211 ],\n",
       "       [-0.03511502,  0.18847669, -0.04046203],\n",
       "       [ 0.09032103, -0.04046202,  0.2768201 ]])"
      ]
     },
     "execution_count": 6,
     "metadata": {},
     "output_type": "execute_result"
    }
   ],
   "source": [
    "from numpy import linalg as LA\n",
    "a_inv = LA.inv(A)\n",
    "a_inv"
   ]
  },
  {
   "cell_type": "markdown",
   "metadata": {},
   "source": [
    "Число обусловленности"
   ]
  },
  {
   "cell_type": "code",
   "execution_count": 13,
   "metadata": {},
   "outputs": [
    {
     "data": {
      "text/plain": [
       "4.365265725678259"
      ]
     },
     "execution_count": 13,
     "metadata": {},
     "output_type": "execute_result"
    }
   ],
   "source": [
    "m = LA.norm(A) * LA.norm(reverse_LU(A))\n",
    "m"
   ]
  },
  {
   "cell_type": "markdown",
   "metadata": {},
   "source": [
    "Метод Гаусса с выбором ведущего элемента"
   ]
  },
  {
   "cell_type": "code",
   "execution_count": 8,
   "metadata": {},
   "outputs": [
    {
     "name": "stdout",
     "output_type": "stream",
     "text": [
      "[0.16810434673620603, -0.03511502217003547, 0.0903210276760497]\n"
     ]
    }
   ],
   "source": [
    "def bubble_max_row(m, col):\n",
    "    \"\"\"Replace m[col] row with the one of the underlying rows with the modulo greatest first element.\n",
    "    :param m: matrix (list of lists)\n",
    "    :param col: index of the column/row from which underlying search will be launched\n",
    "    :return: None. Function changes the matrix structure.\n",
    "    \"\"\"\n",
    "    max_element = m[col][col]\n",
    "    max_row = col\n",
    "    for i in range(col + 1, len(m)):\n",
    "        if abs(m[i][col]) > abs(max_element):\n",
    "            max_element = m[i][col]\n",
    "            max_row = i\n",
    "    if max_row != col:\n",
    "        m[col], m[max_row] = m[max_row], m[col]\n",
    "\n",
    "\n",
    "def solve_gauss(m):\n",
    "    \"\"\"Solve linear equations system with gaussian method.\n",
    "    :param m: matrix (list of lists)\n",
    "    :return: None\n",
    "    \"\"\"\n",
    "    n = len(m)\n",
    "    # forward trace\n",
    "    for k in range(n - 1):\n",
    "        bubble_max_row(m, k)\n",
    "        for i in range(k + 1, n):\n",
    "            div = m[i][k] / m[k][k]\n",
    "            m[i][-1] -= div * m[k][-1]\n",
    "            for j in range(k, n):\n",
    "                m[i][j] -= div * m[k][j]\n",
    "\n",
    "    # check modified system for nonsingularity\n",
    "    if is_singular(m):\n",
    "        print('The system has infinite number of answers...')\n",
    "        return\n",
    "\n",
    "    # backward trace\n",
    "    x = [0 for i in range(n)]\n",
    "    for k in range(n - 1, -1, -1):\n",
    "        x[k] = (m[k][-1] - sum([m[k][j] * x[j] for j in range(k + 1, n)])) / m[k][k]\n",
    "\n",
    "    # Display results\n",
    "    print(x)\n",
    "\n",
    "\n",
    "def is_singular(m):\n",
    "    \"\"\"Check matrix for nonsingularity.\n",
    "    :param m: matrix (list of lists)\n",
    "    :return: True if system is nonsingular\n",
    "    \"\"\"\n",
    "    for i in range(len(m)):\n",
    "        if not m[i][i]:\n",
    "            return True\n",
    "    return False\n",
    "\n",
    "solve_gauss(matrix)"
   ]
  },
  {
   "cell_type": "markdown",
   "metadata": {},
   "source": [
    "### Second task\n",
    "*Matrix:*\n",
    "$$\\begin{pmatrix} 7.35272 & 0.88255 & -2.270052 \\\\ 0.88255 & 5.58351 & 0.528167 \\\\ -2.27005 & 0.528167 & 4.430329 \\end{pmatrix} = \\begin{pmatrix} 1 \\\\ 0 \\\\ 0 \\end{pmatrix}$$ "
   ]
  },
  {
   "cell_type": "markdown",
   "metadata": {},
   "source": [
    "Решение методом Гаусса"
   ]
  },
  {
   "cell_type": "code",
   "execution_count": 14,
   "metadata": {},
   "outputs": [
    {
     "name": "stdout",
     "output_type": "stream",
     "text": [
      "[0.16810434673620603, -0.03511502217003547, 0.0903210276760497]\n"
     ]
    }
   ],
   "source": [
    "solve_gauss(matrix)"
   ]
  },
  {
   "cell_type": "markdown",
   "metadata": {},
   "source": [
    "Преобразование системы к виду $x = Hx + g$ \n"
   ]
  },
  {
   "cell_type": "code",
   "execution_count": 15,
   "metadata": {},
   "outputs": [
    {
     "name": "stdout",
     "output_type": "stream",
     "text": [
      "Матрица H: \n",
      " [[ 0.         -0.12003041  0.30873636]\n",
      " [-0.15806366  0.         -0.09459408]\n",
      " [ 0.51238858 -0.1192162   0.        ]]\n",
      "Столбец g: \n",
      " [[0.13600409]\n",
      " [0.        ]\n",
      " [0.        ]]\n"
     ]
    }
   ],
   "source": [
    "n = len(A)\n",
    "E_matrix = np.eye(n)\n",
    "D_matrix = np.zeros((n, n))\n",
    "\n",
    "for i in range(n):\n",
    "    D_matrix[i][i] = A[i][i]\n",
    "    \n",
    "# матрица обратная к D\n",
    "D_inv = LA.inv(D_matrix)        \n",
    "H = E_matrix - D_inv.dot(A)\n",
    "g = D_inv.dot(B)\n",
    "     \n",
    "\n",
    "print(\"Матрица H:\",'\\n', H)\n",
    "print(\"Столбец g:\",'\\n',g)"
   ]
  },
  {
   "cell_type": "markdown",
   "metadata": {},
   "source": [
    " $||H||_\\infty$"
   ]
  },
  {
   "cell_type": "code",
   "execution_count": 16,
   "metadata": {},
   "outputs": [
    {
     "data": {
      "text/plain": [
       "0.6483919812719281"
      ]
     },
     "execution_count": 16,
     "metadata": {},
     "output_type": "execute_result"
    }
   ],
   "source": [
    "H_norm = LA.norm(H) \n",
    "H_norm"
   ]
  },
  {
   "cell_type": "markdown",
   "metadata": {},
   "source": [
    "Оценка погрешности  $||x^k-x^*||_\\infty \\lt \\epsilon$, $\\epsilon = 0.00001$"
   ]
  },
  {
   "cell_type": "markdown",
   "metadata": {},
   "source": [
    "Из априорной оценки следует, что для достижения требуемой точности\n",
    "необходимо выполнить количество итераций k, которое является\n",
    "ближайшим натуральным числом, превышающим:\n",
    "$k \\ge \\frac{\\ln(\\frac{\\epsilon\\cdot(1 - ||H||)}{||g||})}{\\ln(||H||)}$"
   ]
  },
  {
   "cell_type": "code",
   "execution_count": 17,
   "metadata": {},
   "outputs": [
    {
     "name": "stdout",
     "output_type": "stream",
     "text": [
      "число итераций k:  14\n"
     ]
    }
   ],
   "source": [
    "import math\n",
    "# точность вычислений\n",
    "eps = 10**(-3)\n",
    "\n",
    "# норма столбца g_D\n",
    "g_norm = max(np.abs(g))\n",
    "\n",
    "# вычисляем правую часть неравенства\n",
    "val_1 = np.log(eps*(1-H_norm)/g_norm)\n",
    "val_2 = np.log(H_norm)\n",
    "val_est =val_1/val_2\n",
    "\n",
    "k_apr = math.ceil(val_est)\n",
    "print(\"число итераций k: \", k_apr)"
   ]
  },
  {
   "cell_type": "markdown",
   "metadata": {},
   "source": [
    "Метод простейших итераций"
   ]
  },
  {
   "cell_type": "code",
   "execution_count": 21,
   "metadata": {},
   "outputs": [
    {
     "name": "stdout",
     "output_type": "stream",
     "text": [
      "Приближенное решение:  [[ 0.16767497]\n",
      " [-0.03480106]\n",
      " [ 0.08957659]]\n",
      "Точное решение:  [[ 0.16810435]\n",
      " [-0.03511502]\n",
      " [ 0.09032103]]\n",
      "Фактическая погрешность:  [[0.00087405]\n",
      " [0.00032836]\n",
      " [0.0003966 ]]\n"
     ]
    }
   ],
   "source": [
    "import copy\n",
    "xx = LA.solve(A, B)\n",
    "\n",
    "x_k = np.zeros(n)\n",
    "x_k_1 = g\n",
    "k = 1\n",
    "while np.max(np.abs(x_k_1 - x_k)) > eps and k != k_apr :\n",
    "    x_k = copy.copy(x_k_1)\n",
    "    vall = H.dot(x_k_1)\n",
    "    x_k_1 = vall + g\n",
    "    k += 1\n",
    "\n",
    "print(\"Приближенное решение: \", x_k_1)\n",
    "print(\"Точное решение: \", xx)\n",
    "print(\"Фактическая погрешность: \", np.abs(x_k - x_k_1))"
   ]
  },
  {
   "cell_type": "code",
   "execution_count": 23,
   "metadata": {},
   "outputs": [
    {
     "name": "stdout",
     "output_type": "stream",
     "text": [
      "Апостериорная оценка:  [0.00161181]\n",
      "Априорная оценка [0.01863617]\n",
      "Уточненное решение по Люстернику:  [[ 0.16842611]\n",
      " [-0.03508325]\n",
      " [ 0.08991743]]\n",
      "Фактическая погрешность по Люстернику:  [[0.00162519]\n",
      " [0.00061054]\n",
      " [0.00073744]]\n"
     ]
    }
   ],
   "source": [
    "apostr_est = H_norm/(1 - H_norm)*max(np.abs(x_k_1-x_k))     # апостериорная оценка\n",
    "print(\"Апостериорная оценка: \", apostr_est)\n",
    "\n",
    "apr_est = (H_norm**k)/(1 - H_norm)*g_norm       # априорная оценка\n",
    "print(\"Априорная оценка\", apr_est)\n",
    "\n",
    "# уточним по Люстернику\n",
    "w, v = LA.eig(H)      # собственные числа и векторы матрицы H\n",
    "rho_H = max(abs(w))     #спектральный радиус матрицы H\n",
    "\n",
    "x_Lust = x_k + 1/(1 - rho_H)*(x_k_1-x_k)\n",
    "print(\"Уточненное решение по Люстернику: \", x_Lust)\n",
    "\n",
    "print(\"Фактическая погрешность по Люстернику: \", np.abs(x_k - x_Lust))"
   ]
  },
  {
   "cell_type": "markdown",
   "metadata": {},
   "source": [
    "Метод Зейделя"
   ]
  },
  {
   "cell_type": "code",
   "execution_count": 25,
   "metadata": {},
   "outputs": [
    {
     "name": "stdout",
     "output_type": "stream",
     "text": [
      "Решение, полученное методом Зейделя:  [[ 0.16802702]\n",
      " [-0.03508424]\n",
      " [ 0.09027774]]\n",
      "Фактическая погрешность:  [[0.00027315]\n",
      " [0.00010872]\n",
      " [0.00015292]]\n",
      "Потребовавшееся количество операций:  5\n"
     ]
    }
   ],
   "source": [
    "H_L = np.zeros((n, n))\n",
    "H_R = np.zeros((n, n))\n",
    "\n",
    "for i in range(1, n):\n",
    "    j = 0\n",
    "    while j < i:\n",
    "        H_L[i][j] = H[i][j]\n",
    "        j += 1\n",
    "\n",
    "for i in range(0, n):\n",
    "    j = n-1\n",
    "    while j >= i:\n",
    "        H_R[i][j] = H[i][j]\n",
    "        j -= 1\n",
    "\n",
    "m_1 = LA.inv(E_matrix - H_L)\n",
    "m_2 = m_1.dot(H_R)\n",
    "\n",
    "x_k = np.zeros(n)\n",
    "x_k_1 = m_1.dot(g)\n",
    "k = 1\n",
    "while (np.max(LA.norm(x_k_1-x_k))) > eps:\n",
    "    x_k = copy.copy(x_k_1)\n",
    "    x_k_1 = m_2.dot(x_k) + m_1.dot(g)\n",
    "    k += 1\n",
    "\n",
    "\n",
    "\n",
    "print(\"Решение, полученное методом Зейделя: \", x_k_1)\n",
    "print(\"Фактическая погрешность: \", np.abs(x_k - x_k_1))\n",
    "print(\"Потребовавшееся количество операций: \", k)"
   ]
  },
  {
   "cell_type": "markdown",
   "metadata": {},
   "source": [
    "Метод верхней релаксации"
   ]
  },
  {
   "cell_type": "code",
   "execution_count": 27,
   "metadata": {},
   "outputs": [
    {
     "name": "stdout",
     "output_type": "stream",
     "text": [
      "Решение методом верхней релаксации:  [[ 0.16807288]\n",
      " [-0.03510644]\n",
      " [ 0.09030904]]\n",
      "Число итераций 4\n",
      "Фактическая погрешность:  [[2.55454365e-04]\n",
      " [1.08706604e-04]\n",
      " [9.11780305e-05]]\n"
     ]
    }
   ],
   "source": [
    "q = 2/(1 + math.sqrt(1 - rho_H**2))         \n",
    "x_k = np.zeros(n)\n",
    "part_val_1 = LA.inv(E_matrix - q*H_L)\n",
    "x_k_1 = part_val_1.dot(q*g)\n",
    "k = 1\n",
    "\n",
    "while np.max(np.abs(x_k_1 - x_k)) > eps and k!=28 :\n",
    "    x_k = copy.copy(x_k_1)\n",
    "    part_val = H_R.dot(x_k) - x_k + g\n",
    "    x_k_1 = part_val_1.dot(x_k + q*part_val)\n",
    "    k += 1\n",
    "print(\"Решение методом верхней релаксации: \", x_k_1)\n",
    "print(\"Число итераций\", k)\n",
    "print(\"Фактическая погрешность: \", np.abs(x_k_1 - x_k))"
   ]
  }
 ],
 "metadata": {
  "kernelspec": {
   "display_name": "Python 3",
   "language": "python",
   "name": "python3"
  },
  "language_info": {
   "codemirror_mode": {
    "name": "ipython",
    "version": 3
   },
   "file_extension": ".py",
   "mimetype": "text/x-python",
   "name": "python",
   "nbconvert_exporter": "python",
   "pygments_lexer": "ipython3",
   "version": "3.7.3"
  }
 },
 "nbformat": 4,
 "nbformat_minor": 2
}
