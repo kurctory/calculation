{
 "cells": [
  {
   "cell_type": "code",
   "execution_count": 65,
   "metadata": {},
   "outputs": [],
   "source": [
    "import pandas as pd\n",
    "import numpy as np"
   ]
  },
  {
   "cell_type": "markdown",
   "metadata": {},
   "source": [
    "### Fourth task\n",
    "Задача Коши для обыкновенного дифференциального уравнения 1-го порядка.\n",
    "$$y' = \\cos{(2x + y)} - 1.5(x - y), y(0) = 0$$"
   ]
  },
  {
   "cell_type": "code",
   "execution_count": 66,
   "metadata": {},
   "outputs": [],
   "source": [
    "def f(x, y):\n",
    "    val = np.cos(2 * x + y) - 1.5 * (x - y)\n",
    "    return val"
   ]
  },
  {
   "cell_type": "markdown",
   "metadata": {},
   "source": [
    "1. Получить таблицу значений решения задачи c шагом h = 0.05 на [0, 0.5], используя wolfram alpha"
   ]
  },
  {
   "cell_type": "code",
   "execution_count": 67,
   "metadata": {},
   "outputs": [
    {
     "data": {
      "text/html": [
       "<div>\n",
       "<style scoped>\n",
       "    .dataframe tbody tr th:only-of-type {\n",
       "        vertical-align: middle;\n",
       "    }\n",
       "\n",
       "    .dataframe tbody tr th {\n",
       "        vertical-align: top;\n",
       "    }\n",
       "\n",
       "    .dataframe thead th {\n",
       "        text-align: right;\n",
       "    }\n",
       "</style>\n",
       "<table border=\"1\" class=\"dataframe\">\n",
       "  <thead>\n",
       "    <tr style=\"text-align: right;\">\n",
       "      <th>$x$</th>\n",
       "      <th>$y$</th>\n",
       "    </tr>\n",
       "  </thead>\n",
       "  <tbody>\n",
       "    <tr>\n",
       "      <th>0.00</th>\n",
       "      <td>0.000000</td>\n",
       "    </tr>\n",
       "    <tr>\n",
       "      <th>0.05</th>\n",
       "      <td>0.049809</td>\n",
       "    </tr>\n",
       "    <tr>\n",
       "      <th>0.10</th>\n",
       "      <td>0.098458</td>\n",
       "    </tr>\n",
       "    <tr>\n",
       "      <th>0.15</th>\n",
       "      <td>0.144764</td>\n",
       "    </tr>\n",
       "    <tr>\n",
       "      <th>0.20</th>\n",
       "      <td>0.187567</td>\n",
       "    </tr>\n",
       "    <tr>\n",
       "      <th>0.25</th>\n",
       "      <td>0.225781</td>\n",
       "    </tr>\n",
       "    <tr>\n",
       "      <th>0.30</th>\n",
       "      <td>0.258425</td>\n",
       "    </tr>\n",
       "    <tr>\n",
       "      <th>0.35</th>\n",
       "      <td>0.284645</td>\n",
       "    </tr>\n",
       "    <tr>\n",
       "      <th>0.40</th>\n",
       "      <td>0.303719</td>\n",
       "    </tr>\n",
       "    <tr>\n",
       "      <th>0.45</th>\n",
       "      <td>0.315053</td>\n",
       "    </tr>\n",
       "    <tr>\n",
       "      <th>0.50</th>\n",
       "      <td>0.318162</td>\n",
       "    </tr>\n",
       "  </tbody>\n",
       "</table>\n",
       "</div>"
      ],
      "text/plain": [
       "$x$        $y$\n",
       "0.00  0.000000\n",
       "0.05  0.049809\n",
       "0.10  0.098458\n",
       "0.15  0.144764\n",
       "0.20  0.187567\n",
       "0.25  0.225781\n",
       "0.30  0.258425\n",
       "0.35  0.284645\n",
       "0.40  0.303719\n",
       "0.45  0.315053\n",
       "0.50  0.318162"
      ]
     },
     "execution_count": 67,
     "metadata": {},
     "output_type": "execute_result"
    }
   ],
   "source": [
    "y_math = [0, 0.0498094, 0.0984582, 0.144764, 0.187567, 0.225781, 0.258425, 0.284645, 0.303719, 0.315053, 0.318162]\n",
    "data = y_math\n",
    "xx = [round(x, 2) for x in np.arange(0, 0.55, 0.05)]\n",
    "indexes = [\"$y$\"]\n",
    "df = pd.DataFrame(data, index = xx, columns = indexes)\n",
    "df.columns.name = \"$x$\"\n",
    "\n",
    "df"
   ]
  },
  {
   "cell_type": "markdown",
   "metadata": {},
   "source": [
    "2. Метод Эйлера (улучшенный) на [0, 0.5]"
   ]
  },
  {
   "cell_type": "code",
   "execution_count": 68,
   "metadata": {},
   "outputs": [],
   "source": [
    "def Euler(y, x, h):\n",
    "    for i in range(1, len(y)):\n",
    "        val_1 = f(x[i - 1], y[i - 1])\n",
    "        Y_m = y[i - 1] + h * val_1\n",
    "        val_2 = f(x[i], Y_m)\n",
    "        y[i] = y[i - 1] + h / 2 * (val_1 + val_2)\n",
    "    return y"
   ]
  },
  {
   "cell_type": "code",
   "execution_count": 69,
   "metadata": {},
   "outputs": [
    {
     "data": {
      "text/html": [
       "<div>\n",
       "<style scoped>\n",
       "    .dataframe tbody tr th:only-of-type {\n",
       "        vertical-align: middle;\n",
       "    }\n",
       "\n",
       "    .dataframe tbody tr th {\n",
       "        vertical-align: top;\n",
       "    }\n",
       "\n",
       "    .dataframe thead th {\n",
       "        text-align: right;\n",
       "    }\n",
       "</style>\n",
       "<table border=\"1\" class=\"dataframe\">\n",
       "  <thead>\n",
       "    <tr style=\"text-align: right;\">\n",
       "      <th>$x$</th>\n",
       "      <th>y^h</th>\n",
       "      <th>y^(h/2)</th>\n",
       "      <th>y_rev</th>\n",
       "      <th>y_rev - y_math</th>\n",
       "    </tr>\n",
       "  </thead>\n",
       "  <tbody>\n",
       "    <tr>\n",
       "      <th>0.00</th>\n",
       "      <td>0.000000</td>\n",
       "      <td>0.000000</td>\n",
       "      <td>0.000000</td>\n",
       "      <td>0.000000</td>\n",
       "    </tr>\n",
       "    <tr>\n",
       "      <th>0.05</th>\n",
       "      <td>0.049719</td>\n",
       "      <td>0.049999</td>\n",
       "      <td>0.050092</td>\n",
       "      <td>0.000283</td>\n",
       "    </tr>\n",
       "    <tr>\n",
       "      <th>0.10</th>\n",
       "      <td>0.098287</td>\n",
       "      <td>0.098390</td>\n",
       "      <td>0.098424</td>\n",
       "      <td>-0.000034</td>\n",
       "    </tr>\n",
       "    <tr>\n",
       "      <th>0.15</th>\n",
       "      <td>0.144521</td>\n",
       "      <td>0.144961</td>\n",
       "      <td>0.145108</td>\n",
       "      <td>0.000344</td>\n",
       "    </tr>\n",
       "    <tr>\n",
       "      <th>0.20</th>\n",
       "      <td>0.187267</td>\n",
       "      <td>0.187444</td>\n",
       "      <td>0.187503</td>\n",
       "      <td>-0.000064</td>\n",
       "    </tr>\n",
       "    <tr>\n",
       "      <th>0.25</th>\n",
       "      <td>0.225438</td>\n",
       "      <td>0.225993</td>\n",
       "      <td>0.226177</td>\n",
       "      <td>0.000396</td>\n",
       "    </tr>\n",
       "    <tr>\n",
       "      <th>0.30</th>\n",
       "      <td>0.258051</td>\n",
       "      <td>0.258268</td>\n",
       "      <td>0.258340</td>\n",
       "      <td>-0.000085</td>\n",
       "    </tr>\n",
       "    <tr>\n",
       "      <th>0.35</th>\n",
       "      <td>0.284253</td>\n",
       "      <td>0.284874</td>\n",
       "      <td>0.285081</td>\n",
       "      <td>0.000436</td>\n",
       "    </tr>\n",
       "    <tr>\n",
       "      <th>0.40</th>\n",
       "      <td>0.303321</td>\n",
       "      <td>0.303547</td>\n",
       "      <td>0.303623</td>\n",
       "      <td>-0.000096</td>\n",
       "    </tr>\n",
       "    <tr>\n",
       "      <th>0.45</th>\n",
       "      <td>0.314658</td>\n",
       "      <td>0.314456</td>\n",
       "      <td>0.314389</td>\n",
       "      <td>-0.000664</td>\n",
       "    </tr>\n",
       "    <tr>\n",
       "      <th>0.50</th>\n",
       "      <td>0.317779</td>\n",
       "      <td>0.317123</td>\n",
       "      <td>0.316904</td>\n",
       "      <td>-0.001258</td>\n",
       "    </tr>\n",
       "  </tbody>\n",
       "</table>\n",
       "</div>"
      ],
      "text/plain": [
       "$x$        y^h   y^(h/2)     y_rev  y_rev - y_math\n",
       "0.00  0.000000  0.000000  0.000000        0.000000\n",
       "0.05  0.049719  0.049999  0.050092        0.000283\n",
       "0.10  0.098287  0.098390  0.098424       -0.000034\n",
       "0.15  0.144521  0.144961  0.145108        0.000344\n",
       "0.20  0.187267  0.187444  0.187503       -0.000064\n",
       "0.25  0.225438  0.225993  0.226177        0.000396\n",
       "0.30  0.258051  0.258268  0.258340       -0.000085\n",
       "0.35  0.284253  0.284874  0.285081        0.000436\n",
       "0.40  0.303321  0.303547  0.303623       -0.000096\n",
       "0.45  0.314658  0.314456  0.314389       -0.000664\n",
       "0.50  0.317779  0.317123  0.316904       -0.001258"
      ]
     },
     "execution_count": 69,
     "metadata": {},
     "output_type": "execute_result"
    }
   ],
   "source": [
    "a, b, h, h_2 = 0, 0.5, 0.05, 0.025\n",
    "y_a = 0\n",
    "n = len(xx)\n",
    "y_h = [0]*n\n",
    "y_h[0] = y_a\n",
    "\n",
    "y_h = Euler(y_h, xx, h)\n",
    "\n",
    "xx_2 = [round(x, 2) for x in np.arange(0, 0.55, h_2)]\n",
    "n_2 = len(xx_2)\n",
    "Y_h_2 = [0]*n_2\n",
    "y_h_2 = [0]*n\n",
    "Y_h_2[0] = y_a\n",
    "\n",
    "Y_h_2 = Euler(Y_h_2, xx_2, h_2)\n",
    "for i in range(0, n_2, 2):\n",
    "    y_h_2[i//2] = Y_h_2[i]\n",
    "\n",
    "R = [0]*n\n",
    "y_rev = [0]*n\n",
    "s = 2\n",
    "\n",
    "for i in range(n):\n",
    "    R[i] = (y_h_2[i] - y_h[i])/(2**s - 1)\n",
    "    y_rev[i] = y_h_2[i] + R[i]\n",
    "\n",
    "errs = [0]*n\n",
    "for i in range(n):\n",
    "    errs[i] = y_rev[i] - y_math[i]\n",
    "data = [y_h, y_h_2, y_rev, errs]\n",
    "indexes = [\n",
    "    \"y^h\",\n",
    "    \"y^(h/2)\",\n",
    "    \"y_rev\",\n",
    "    \"y_rev - y_math\"\n",
    "]\n",
    "df = pd.DataFrame(data, index= indexes, columns=xx).T\n",
    "df.columns.name = \"$x$\"\n",
    "df"
   ]
  },
  {
   "cell_type": "code",
   "execution_count": 70,
   "metadata": {},
   "outputs": [
    {
     "data": {
      "image/png": "[encoded data removed]",
      "text/plain": [
       "<Figure size 432x288 with 1 Axes>"
      ]
     },
     "metadata": {
      "needs_background": "light"
     },
     "output_type": "display_data"
    }
   ],
   "source": [
    "from matplotlib import pyplot as plt\n",
    "\n",
    "plt.plot(xx, y_h, 'g.')\n",
    "plt.plot(xx, y_h_2, 'b.')\n",
    "plt.plot(xx, y_rev, 'r.')\n",
    "\n",
    "\n",
    "\n",
    "plt.xlabel(\"x\")\n",
    "plt.ylabel(\"y\")\n",
    "plt.show()"
   ]
  },
  {
   "cell_type": "markdown",
   "metadata": {},
   "source": [
    "5. Вычислить решение методом Рунге-Кутты 4-ого порядка с точностью ε=0.000001 на\n",
    "[0, 0.5] — y_RK."
   ]
  },
  {
   "cell_type": "code",
   "execution_count": 71,
   "metadata": {},
   "outputs": [],
   "source": [
    "def Runge_Kut(y, x, h):\n",
    "\n",
    "    for i in range(1, len(y)):\n",
    "        k1 = h*f(x[i-1], y[i-1])\n",
    "        k2 = h*f(x[i-1] + h/2, y[i-1] +k1/2)\n",
    "        k3 = h*f(x[i-1] + h/2, y[i-1] +k2/2)\n",
    "        k4 = h*f(x[i-1] + h, y[i-1] +k3)\n",
    "        y[i] = y[i-1] + (k1 + 2*k2 + 2*k3 +k4)*(1/6)\n",
    "    return y"
   ]
  },
  {
   "cell_type": "code",
   "execution_count": 72,
   "metadata": {},
   "outputs": [],
   "source": [
    "xx_2 = [round(x, 2) for x in np.arange(0, 0.55, h_2)]\n",
    "n_2 = len(xx_2)\n",
    "Y_RK_2 = [0]*n_2\n",
    "y_RK_2 = [0]*n\n",
    "Y_RK_2[0] = y_a\n",
    "\n",
    "Y_RK_2 = Runge_Kut(Y_RK_2, xx_2, h_2)\n",
    "for i in range(0, n_2, 2):\n",
    "    y_RK_2[i//2] = Y_RK_2[i]\n",
    "\n",
    "errs_RK_2 = [0]*n\n",
    "for i in range(n):\n",
    "    errs_RK_2[i] = np.abs(y_RK_2[i] - y_math[i] )"
   ]
  },
  {
   "cell_type": "markdown",
   "metadata": {},
   "source": [
    "Решения "
   ]
  },
  {
   "cell_type": "code",
   "execution_count": 73,
   "metadata": {},
   "outputs": [
    {
     "data": {
      "text/plain": [
       "[0,\n",
       " 0.05002742492409448,\n",
       " 0.09843341338348237,\n",
       " 0.145026842440967,\n",
       " 0.1875202612145448,\n",
       " 0.2260821079489702,\n",
       " 0.2583628395576167,\n",
       " 0.28497450446736033,\n",
       " 0.3036481106855964,\n",
       " 0.3145563964509019,\n",
       " 0.317220667608657]"
      ]
     },
     "execution_count": 73,
     "metadata": {},
     "output_type": "execute_result"
    }
   ],
   "source": [
    "y_RK_2"
   ]
  },
  {
   "cell_type": "markdown",
   "metadata": {},
   "source": [
    "Погрешности"
   ]
  },
  {
   "cell_type": "code",
   "execution_count": 74,
   "metadata": {},
   "outputs": [
    {
     "data": {
      "text/plain": [
       "[0,\n",
       " 0.00021802492409448565,\n",
       " 2.478661651762748e-05,\n",
       " 0.00026284244096699827,\n",
       " 4.6738785455219256e-05,\n",
       " 0.0003011079489702029,\n",
       " 6.216044238332996e-05,\n",
       " 0.0003295044673603531,\n",
       " 7.088931440363266e-05,\n",
       " 0.0004966035490981402,\n",
       " 0.000941332391342975]"
      ]
     },
     "execution_count": 74,
     "metadata": {},
     "output_type": "execute_result"
    }
   ],
   "source": [
    "errs_RK_2"
   ]
  },
  {
   "cell_type": "markdown",
   "metadata": {},
   "source": [
    "6. Вычислить решение экстраполяционным методом Адамса 4-ого порядка с шагом из метода Рунге-Кутты на промежутке [4h, 0.5] — y_Ad_ex. Начало таблицы строить методом Рунге-Кутты."
   ]
  },
  {
   "cell_type": "markdown",
   "metadata": {},
   "source": [
    "экстраполяционный метод Адамса 4-ого порядка"
   ]
  },
  {
   "cell_type": "code",
   "execution_count": 75,
   "metadata": {},
   "outputs": [],
   "source": [
    "def Adams_ex(y, x, h):\n",
    "    for i in range(5, len(y)):\n",
    "        q_4 = h*f(x[i-5], y[i-5])\n",
    "        q_3 = h*f(x[i-4], y[i-4])\n",
    "        q_2 = h*f(x[i-3], y[i-3])\n",
    "        q_1 = h*f(x[i-2], y[i-2])\n",
    "        q_0 = h*f(x[i-1], y[i-1])\n",
    "        y[i] = y[i-1] + (1/720)*(1901*q_0 - 2774*q_1 + 2616*q_2 - 1274*q_3 + 251*q_4)\n",
    "    return y"
   ]
  },
  {
   "cell_type": "code",
   "execution_count": 76,
   "metadata": {},
   "outputs": [
    {
     "data": {
      "text/plain": [
       "[0.09843341338348237,\n",
       " 0.12195185424950362,\n",
       " 0.145026842440967,\n",
       " 0.16694329345074654,\n",
       " 0.1875202612145448,\n",
       " 0.20797486863150189,\n",
       " 0.22635806796795468,\n",
       " 0.24263926063441055,\n",
       " 0.2602959644579306,\n",
       " 0.2723772043481484,\n",
       " 0.2869325169243343,\n",
       " 0.29550955893277087,\n",
       " 0.3065136468733717,\n",
       " 0.3111827737975041,\n",
       " 0.3183704498584339,\n",
       " 0.31889655592654903,\n",
       " 0.32200840378822987]"
      ]
     },
     "execution_count": 76,
     "metadata": {},
     "output_type": "execute_result"
    }
   ],
   "source": [
    "y_Ad_ex"
   ]
  },
  {
   "cell_type": "code",
   "execution_count": 77,
   "metadata": {},
   "outputs": [],
   "source": [
    "xx = [round(x, 2) for x in np.arange(4*h_2, 0.5+h_2, h_2)]\n",
    "y_Ad_ex = [0]*len(xx)\n",
    "for i in range(5):\n",
    "    y_Ad_ex[i] = Y_RK_2[i+4]\n",
    "y_Ad_ex = Adams_ex(y_Ad_ex, xx, h_2)"
   ]
  },
  {
   "cell_type": "markdown",
   "metadata": {},
   "source": [
    "интерполяционный метод Адамса 4-ого порядка"
   ]
  },
  {
   "cell_type": "code",
   "execution_count": 78,
   "metadata": {},
   "outputs": [],
   "source": [
    "def Adams_in(y_ex, y, x, h):\n",
    "    for i in range(4, len(y)):\n",
    "        q_3 = h * f(x[i - 4], y[i - 4])\n",
    "        q_2 = h * f(x[i - 3], y[i - 3])\n",
    "        q_1 = h * f(x[i - 2], y[i - 2])\n",
    "        q_0 = h * f(x[i - 1], y[i - 1])\n",
    "\n",
    "        y_0 = y_ex[i]\n",
    "        q_4 = h*f(x[i], y_0)\n",
    "        y_1 = y[i-1] + (1/720)*(251*q_4 + 646*q_0 - 264*q_1 + 106*q_2 - 19*q_3)\n",
    "        k=0\n",
    "        while np.abs(y_1 - y_0) >= 0.0001 and k!=10:\n",
    "            y_0 = y_1\n",
    "            q_4 = h * f(x[i], y_0)\n",
    "            y_1 = y[i - 1] + (1 / 720) * (251 * q_4 + 646 * q_0 - 264 * q_1 + 106 * q_2 - 19 * q_3)\n",
    "            k+=1\n",
    "        y[i] = y_1\n",
    "\n",
    "    return y"
   ]
  },
  {
   "cell_type": "code",
   "execution_count": 79,
   "metadata": {},
   "outputs": [
    {
     "data": {
      "text/plain": [
       "[0.09843341338348237,\n",
       " 0.12195185424950362,\n",
       " 0.145026842440967,\n",
       " 0.16694329345074654,\n",
       " 0.18760093966318672,\n",
       " 0.20757258371830606,\n",
       " 0.22631038241775125,\n",
       " 0.24340775117992236,\n",
       " 0.2593670484283936,\n",
       " 0.27333912481216843,\n",
       " 0.2860159319268083,\n",
       " 0.2964998495898348,\n",
       " 0.3055453290473566,\n",
       " 0.31222828526997715,\n",
       " 0.31735552894252145,\n",
       " 0.31998330393198177,\n",
       " 0.32095961610073315]"
      ]
     },
     "execution_count": 79,
     "metadata": {},
     "output_type": "execute_result"
    }
   ],
   "source": [
    "y_Ad_in"
   ]
  },
  {
   "cell_type": "code",
   "execution_count": 84,
   "metadata": {},
   "outputs": [],
   "source": [
    "xx = [round(x, 2) for x in np.arange(4*h_2, 0.5+h_2, h_2)]\n",
    "y_Ad_in = [0]*len(xx)\n",
    "for i in range(4):\n",
    "    y_Ad_in[i] = Y_RK_2[i+4]\n",
    "y_Ad_in = Adams_in(y_Ad_ex, y_Ad_in, xx, h_2)"
   ]
  },
  {
   "cell_type": "code",
   "execution_count": 85,
   "metadata": {},
   "outputs": [
    {
     "data": {
      "text/html": [
       "<div>\n",
       "<style scoped>\n",
       "    .dataframe tbody tr th:only-of-type {\n",
       "        vertical-align: middle;\n",
       "    }\n",
       "\n",
       "    .dataframe tbody tr th {\n",
       "        vertical-align: top;\n",
       "    }\n",
       "\n",
       "    .dataframe thead th {\n",
       "        text-align: right;\n",
       "    }\n",
       "</style>\n",
       "<table border=\"1\" class=\"dataframe\">\n",
       "  <thead>\n",
       "    <tr style=\"text-align: right;\">\n",
       "      <th>$x$</th>\n",
       "      <th>y_AD_ex</th>\n",
       "      <th>y_math - y_AD_ex</th>\n",
       "      <th>y_AD_in</th>\n",
       "      <th>y_math - y_AD_in</th>\n",
       "    </tr>\n",
       "  </thead>\n",
       "  <tbody>\n",
       "    <tr>\n",
       "      <th>0.10</th>\n",
       "      <td>0.098433</td>\n",
       "      <td>-0.098433</td>\n",
       "      <td>0.098433</td>\n",
       "      <td>-0.098433</td>\n",
       "    </tr>\n",
       "    <tr>\n",
       "      <th>0.12</th>\n",
       "      <td>0.121952</td>\n",
       "      <td>-0.096975</td>\n",
       "      <td>0.121952</td>\n",
       "      <td>-0.096975</td>\n",
       "    </tr>\n",
       "    <tr>\n",
       "      <th>0.15</th>\n",
       "      <td>0.145027</td>\n",
       "      <td>-0.095217</td>\n",
       "      <td>0.145027</td>\n",
       "      <td>-0.095217</td>\n",
       "    </tr>\n",
       "    <tr>\n",
       "      <th>0.18</th>\n",
       "      <td>0.166943</td>\n",
       "      <td>-0.092590</td>\n",
       "      <td>0.166943</td>\n",
       "      <td>-0.092590</td>\n",
       "    </tr>\n",
       "    <tr>\n",
       "      <th>0.20</th>\n",
       "      <td>0.187520</td>\n",
       "      <td>-0.089062</td>\n",
       "      <td>0.187601</td>\n",
       "      <td>-0.089143</td>\n",
       "    </tr>\n",
       "    <tr>\n",
       "      <th>0.22</th>\n",
       "      <td>0.207975</td>\n",
       "      <td>-0.085998</td>\n",
       "      <td>0.207573</td>\n",
       "      <td>-0.085596</td>\n",
       "    </tr>\n",
       "    <tr>\n",
       "      <th>0.25</th>\n",
       "      <td>0.226358</td>\n",
       "      <td>-0.081594</td>\n",
       "      <td>0.226310</td>\n",
       "      <td>-0.081546</td>\n",
       "    </tr>\n",
       "    <tr>\n",
       "      <th>0.27</th>\n",
       "      <td>0.242639</td>\n",
       "      <td>-0.075966</td>\n",
       "      <td>0.243408</td>\n",
       "      <td>-0.076735</td>\n",
       "    </tr>\n",
       "    <tr>\n",
       "      <th>0.30</th>\n",
       "      <td>0.260296</td>\n",
       "      <td>-0.072729</td>\n",
       "      <td>0.259367</td>\n",
       "      <td>-0.071800</td>\n",
       "    </tr>\n",
       "    <tr>\n",
       "      <th>0.32</th>\n",
       "      <td>0.272377</td>\n",
       "      <td>-0.065065</td>\n",
       "      <td>0.273339</td>\n",
       "      <td>-0.066027</td>\n",
       "    </tr>\n",
       "    <tr>\n",
       "      <th>0.35</th>\n",
       "      <td>0.286933</td>\n",
       "      <td>-0.061152</td>\n",
       "      <td>0.286016</td>\n",
       "      <td>-0.060235</td>\n",
       "    </tr>\n",
       "    <tr>\n",
       "      <th>0.37</th>\n",
       "      <td>0.295510</td>\n",
       "      <td>-0.052654</td>\n",
       "      <td>0.296500</td>\n",
       "      <td>-0.053644</td>\n",
       "    </tr>\n",
       "    <tr>\n",
       "      <th>0.40</th>\n",
       "      <td>0.306514</td>\n",
       "      <td>-0.048088</td>\n",
       "      <td>0.305545</td>\n",
       "      <td>-0.047119</td>\n",
       "    </tr>\n",
       "    <tr>\n",
       "      <th>0.42</th>\n",
       "      <td>0.311183</td>\n",
       "      <td>-0.038796</td>\n",
       "      <td>0.312228</td>\n",
       "      <td>-0.039841</td>\n",
       "    </tr>\n",
       "    <tr>\n",
       "      <th>0.45</th>\n",
       "      <td>0.318370</td>\n",
       "      <td>-0.033724</td>\n",
       "      <td>0.317356</td>\n",
       "      <td>-0.032710</td>\n",
       "    </tr>\n",
       "    <tr>\n",
       "      <th>0.47</th>\n",
       "      <td>0.318897</td>\n",
       "      <td>-0.023781</td>\n",
       "      <td>0.319983</td>\n",
       "      <td>-0.024867</td>\n",
       "    </tr>\n",
       "    <tr>\n",
       "      <th>0.50</th>\n",
       "      <td>0.322008</td>\n",
       "      <td>-0.018288</td>\n",
       "      <td>0.320960</td>\n",
       "      <td>-0.017240</td>\n",
       "    </tr>\n",
       "  </tbody>\n",
       "</table>\n",
       "</div>"
      ],
      "text/plain": [
       "$x$    y_AD_ex  y_math - y_AD_ex   y_AD_in  y_math - y_AD_in\n",
       "0.10  0.098433         -0.098433  0.098433         -0.098433\n",
       "0.12  0.121952         -0.096975  0.121952         -0.096975\n",
       "0.15  0.145027         -0.095217  0.145027         -0.095217\n",
       "0.18  0.166943         -0.092590  0.166943         -0.092590\n",
       "0.20  0.187520         -0.089062  0.187601         -0.089143\n",
       "0.22  0.207975         -0.085998  0.207573         -0.085596\n",
       "0.25  0.226358         -0.081594  0.226310         -0.081546\n",
       "0.27  0.242639         -0.075966  0.243408         -0.076735\n",
       "0.30  0.260296         -0.072729  0.259367         -0.071800\n",
       "0.32  0.272377         -0.065065  0.273339         -0.066027\n",
       "0.35  0.286933         -0.061152  0.286016         -0.060235\n",
       "0.37  0.295510         -0.052654  0.296500         -0.053644\n",
       "0.40  0.306514         -0.048088  0.305545         -0.047119\n",
       "0.42  0.311183         -0.038796  0.312228         -0.039841\n",
       "0.45  0.318370         -0.033724  0.317356         -0.032710\n",
       "0.47  0.318897         -0.023781  0.319983         -0.024867\n",
       "0.50  0.322008         -0.018288  0.320960         -0.017240"
      ]
     },
     "execution_count": 85,
     "metadata": {},
     "output_type": "execute_result"
    }
   ],
   "source": [
    "y_math2 = [0, 0.0249764, 0.0498094, 0.0743528, 0.0984583, 0.121977, 0.144764, 0.166673, 0.187567, 0.207312, 0.225781, 0.242856, \n",
    "          0.258426, 0.272387, 0.284646, 0.295116, 0.30372, 0.310386, 0.315053, 0.317662, 0.318162]\n",
    "\n",
    "errs1 = [0]*len(xx)\n",
    "errs2 = [0]*len(xx)\n",
    "\n",
    "for i in range(len(xx)):\n",
    "    errs1[i] = y_math2[i] - y_Ad_ex[i]\n",
    "    errs2[i] = y_math2[i] - y_Ad_in[i]\n",
    "\n",
    "data = [y_Ad_ex, errs1, y_Ad_in, errs2]\n",
    "indexes = [\n",
    "    \"y_AD_ex\",\n",
    "    \"y_math - y_AD_ex\",\n",
    "    \"y_AD_in\",\n",
    "    \"y_math - y_AD_in\"\n",
    "]\n",
    "df = pd.DataFrame(data, index= indexes, columns=xx).T\n",
    "df.columns.name = \"$x$\"\n",
    "df"
   ]
  }
 ],
 "metadata": {
  "kernelspec": {
   "display_name": "Python 3",
   "language": "python",
   "name": "python3"
  },
  "language_info": {
   "codemirror_mode": {
    "name": "ipython",
    "version": 3
   },
   "file_extension": ".py",
   "mimetype": "text/x-python",
   "name": "python",
   "nbconvert_exporter": "python",
   "pygments_lexer": "ipython3",
   "version": "3.7.3"
  }
 },
 "nbformat": 4,
 "nbformat_minor": 2
}
